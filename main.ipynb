{
 "cells": [
  {
   "cell_type": "markdown",
   "metadata": {},
   "source": [
    "# Lab 3: Breast Cancer Coimbra Data Set"
   ]
  },
  {
   "cell_type": "code",
   "execution_count": null,
   "metadata": {},
   "outputs": [],
   "source": [
    "import pandas as pd\n",
    "import numpy as np\n",
    "import matplotlib.pyplot as plt\n",
    "from sklearn.neighbors import KNeighborsClassifier\n",
    "\n",
    "# ===== Optional : import other libraries here ===== #\n",
    "\n",
    "# ===== End of Optional : import other libraries here ===== #"
   ]
  },
  {
   "cell_type": "markdown",
   "metadata": {},
   "source": [
    "## Problem 1 (a): Download dataset\n",
    "According to instruction PDF, download Breast Cancer Coimbra Data Set from Dropbox and extract file `dataR2.csv` to directory `./data`."
   ]
  },
  {
   "cell_type": "code",
   "execution_count": null,
   "metadata": {},
   "outputs": [],
   "source": [
    "# Visualization: Load dataset\n",
    "\n",
    "df = pd.read_csv('data/dataR2.csv')\n",
    "features_pd = df.copy()\n",
    "classification = features_pd.pop('Classification').to_numpy().astype(int)\n",
    "print(\">>> example features:\\n\", features_pd.head(5))\n",
    "print(\">>> example classification:\", classification[:5])\n",
    "print(\">>> classification has unique (labels, counts):\", np.unique(classification, return_counts=True))\n",
    "features = features_pd.to_numpy().astype(np.float32)\n",
    "print(\">>> features has shape:\", features.shape)"
   ]
  },
  {
   "cell_type": "markdown",
   "metadata": {},
   "source": [
    "## Problem 1 (b): Exploratory data analysis\n",
    "- Convert `classification` from [1, 2] to [0, 1] and save in new numpy array `classification_converted`.\n",
    "- Plot scatter matrix with class=0 being red and class=1 being green.\n",
    "- Select the first 40 rows of Class 0 and the first 48 rows of Class 1 as the training set (`training_data`, `training_class`) and the rest of the data as the test set (`test_data`, `test_class`)."
   ]
  },
  {
   "cell_type": "code",
   "execution_count": null,
   "metadata": {},
   "outputs": [],
   "source": [
    "classification_converted = classification.copy()\n",
    "training_data, training_class = None, None\n",
    "test_data, test_class = None, None\n",
    "\n",
    "# ===== Convert classification to 0 or 1 ===== #\n",
    "\n",
    "# ===== End of Convert classification to 0 or 1 ===== #\n",
    "\n",
    "# ===== Make a colored scatter matrix ===== #\n",
    "# Hint: use variable features_pd and pd.plotting.scatter_matrix()\n",
    "\n",
    "# ===== End of Make a colored scatter matrix ===== #\n",
    "\n",
    "# ===== Divide into training and test set ===== #\n",
    "\n",
    "# ===== End of Divide into training and test set ===== #"
   ]
  },
  {
   "cell_type": "code",
   "execution_count": null,
   "metadata": {},
   "outputs": [],
   "source": [
    "# TEST: 1(b)\n",
    "assert(len(np.where(classification_converted == 0)[0]) == 52)\n",
    "assert(len(np.where(classification_converted == 1)[0]) == 64)\n",
    "assert(len(np.unique(classification_converted)) == 2)\n",
    "\n",
    "assert(training_data.shape[0] == 88 and training_data.shape[1] == 9)\n",
    "assert(test_data.shape[0] == 28 and test_data.shape[1] == 9)\n",
    "assert(training_class.shape[0] == 88)\n",
    "assert(test_class.shape[0] == 28)\n",
    "\n",
    "print(f\">>> Passed P1(b) Tests.\")"
   ]
  },
  {
   "cell_type": "markdown",
   "metadata": {},
   "source": [
    "## Problem 1 (c): Classification using KNN on Breast Cancer Coimbra Data Set\n",
    "- Train kNN module with training data. Set `weights` to `uniform`, `metric` to `euclidean`.\n",
    "- Compute misclassification rates on both training and test dataset.\n",
    "- Find and report the best k."
   ]
  },
  {
   "cell_type": "code",
   "execution_count": null,
   "metadata": {},
   "outputs": [],
   "source": [
    "# ===== Classify training/test data ===== #\n",
    "\n",
    "# ===== End of Classify training/test data ===== #\n",
    "\n",
    "# ===== Plot misclassification rate ===== #\n",
    "\n",
    "# ===== End of Plot misclassification rate ===== #"
   ]
  },
  {
   "cell_type": "code",
   "execution_count": null,
   "metadata": {},
   "outputs": [],
   "source": [
    "# ===== Which k^* is the most suitable k ===== #\n",
    "\n",
    "# ANSWER: K^* is {}.\n",
    "# REASON: \n",
    "# ===== End of Which k^* is the most suitable k ===== #"
   ]
  },
  {
   "cell_type": "markdown",
   "metadata": {},
   "source": [
    "## Problem 1 (d): Replace the Euclidean metric with the Minkowski distance\n",
    "- Train kNN module with training data. Set `weights` to `uniform`, `metric` to `minkowski`.\n",
    "- Compute misclassification rates on both training and test dataset.\n",
    "- Find and report the best k and p."
   ]
  },
  {
   "cell_type": "code",
   "execution_count": null,
   "metadata": {},
   "outputs": [],
   "source": [
    "# ===== Classify training/test data ===== #\n",
    "\n",
    "# ===== End of Classify training/test data ===== #\n",
    "\n",
    "# ===== Find the optimal (k^*, p^*) ===== #\n",
    "\n",
    "# ANSWER: k^* is {}, p^* is {}.\n",
    "# ===== End of Find the optimal (k, p) ===== #"
   ]
  },
  {
   "cell_type": "markdown",
   "metadata": {},
   "source": [
    "# Extra Credit\n",
    "- Train kNN module with training data. Set `weights` to `distance`, `metric` to `minkowski`.\n",
    "- Compute misclassification rates on both training and test dataset.\n",
    "- Find and report the best k and p."
   ]
  },
  {
   "cell_type": "code",
   "execution_count": null,
   "metadata": {},
   "outputs": [],
   "source": [
    "# ===== Classify training/test data ===== #\n",
    "\n",
    "# ===== End of Classify training/test data ===== #\n",
    "\n",
    "# ===== Find the optimal (k^*, p^*) ===== #\n",
    "\n",
    "# ANSWER: k^* is {}, p^* is {}.\n",
    "# ===== End of Find the optimal (k, p) ===== #"
   ]
  }
 ],
 "metadata": {
  "kernelspec": {
   "display_name": "base",
   "language": "python",
   "name": "python3"
  },
  "language_info": {
   "codemirror_mode": {
    "name": "ipython",
    "version": 3
   },
   "file_extension": ".py",
   "mimetype": "text/x-python",
   "name": "python",
   "nbconvert_exporter": "python",
   "pygments_lexer": "ipython3",
   "version": "3.10.11"
  },
  "orig_nbformat": 4
 },
 "nbformat": 4,
 "nbformat_minor": 2
}
